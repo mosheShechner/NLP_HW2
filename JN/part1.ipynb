{
 "cells": [
  {
   "cell_type": "markdown",
   "metadata": {},
   "source": [
    "# Q1 - Word Classification\n",
    "\n",
    "## Q1.1. Implement the Evaluation Metrics\n",
    "\n",
    "The most common metrics for evaluating binary classification are precision, recall, and f-score. In our case, complex words are considered positive examples, and simple words are considered negative examples. In this part, we implement these metrics. \n",
    "\n",
    "First, we implement get_precision(y_pred, y_true)<br>\n",
    "Intuitively, precision is the ability of the classifier not to label as positive a sample that is negative."
   ]
  },
  {
   "cell_type": "code",
   "execution_count": 1,
   "metadata": {},
   "outputs": [],
   "source": [
    "import math\n",
    "from collections import defaultdict\n",
    "import gzip\n",
    "import matplotlib.pyplot as plt\n",
    "import numpy as np\n",
    "from sklearn.naive_bayes import GaussianNB\n",
    "\n",
    "\n",
    "\n",
    "training_file = \"data/complex_words_training.txt\"\n",
    "development_file = \"data/complex_words_development.txt\"\n",
    "test_file = \"data/complex_words_test_unlabeled.txt\"\n",
    "counts_file = \"data/ngram_counts.txt.gz\"\n",
    "\n",
    "## Loads in the words and labels of one of the datasets\n",
    "def load_file(data_file):\n",
    "    words = []\n",
    "    labels = []   \n",
    "    with open(data_file, 'rt', encoding=\"utf8\") as f:\n",
    "        i = 0\n",
    "        for line in f:\n",
    "            if i > 0:\n",
    "                line_split = line[:-1].split(\"\\t\")\n",
    "                words.append(line_split[0].lower())\n",
    "                labels.append(int(line_split[1]))\n",
    "            i += 1\n",
    "    return words, labels\n",
    "\n",
    "## Calculates the precision of the predicted labels\n",
    "def get_precision(y_pred, y_true):\n",
    "    tp = 0\n",
    "    fp = 0\n",
    "    for i in range(len(y_pred)):\n",
    "        if y_pred[i] == 1:\n",
    "            if y_true[i] == 1:\n",
    "                tp += 1\n",
    "            else:\n",
    "                fp += 1\n",
    "    if tp == 0:\n",
    "        return 0\n",
    "    else:\n",
    "        return tp/(fp+tp)"
   ]
  },
  {
   "cell_type": "markdown",
   "metadata": {},
   "source": [
    "Second, we implement the recall, which measures the ability of the classifier to find all the positive samples."
   ]
  },
  {
   "cell_type": "code",
   "execution_count": 2,
   "metadata": {},
   "outputs": [],
   "source": [
    "## Calculates the recall of the predicted labels\n",
    "def get_recall(y_pred, y_true):\n",
    "    tp = 0\n",
    "    fn = 0\n",
    "    for i in range(len(y_pred)):\n",
    "        if y_true[i] == 1:\n",
    "            if y_pred[i] == 1:\n",
    "                tp += 1\n",
    "            else:\n",
    "                fn += 1\n",
    "    if tp == 0:\n",
    "        return 0\n",
    "    else:\n",
    "        return tp/(fn+tp)"
   ]
  },
  {
   "cell_type": "markdown",
   "metadata": {},
   "source": [
    "Finally, the fscore:"
   ]
  },
  {
   "cell_type": "code",
   "execution_count": 3,
   "metadata": {},
   "outputs": [],
   "source": [
    "## Calculates the f-score of the predicted labels\n",
    "def get_fscore(y_pred, y_true):\n",
    "    precision = get_precision(y_pred,y_true)\n",
    "    recall = get_recall(y_pred,y_true)\n",
    "    if precision == 0 or recall == 0:\n",
    "        fscore = 0\n",
    "    else:\n",
    "        fscore =2 * (precision * recall) / (precision + recall)\n",
    "    return fscore\n"
   ]
  },
  {
   "cell_type": "markdown",
   "metadata": {},
   "source": [
    "Now, let's test our metrics:"
   ]
  },
  {
   "cell_type": "code",
   "execution_count": 4,
   "metadata": {},
   "outputs": [
    {
     "name": "stdout",
     "output_type": "stream",
     "text": [
      "the precision is: 0.5\n",
      "the recall is: 0.6666666666666666\n",
      "the fscore is: 0.5714285714285715\n"
     ]
    }
   ],
   "source": [
    "def test_predictions(y_pred, y_true):\n",
    "    precision = get_precision(y_pred, y_true)\n",
    "    recall = get_recall(y_pred, y_true)\n",
    "    f1 = get_fscore(y_pred, y_true)\n",
    "\n",
    "    print(\"the precision is: \" + str(precision))\n",
    "    print(\"the recall is: \" + str(recall))\n",
    "    print(\"the fscore is: \" + str(f1))\n",
    "    \n",
    "y_true = [0,0,1,0,1,1,0]\n",
    "y_pred = [0,1,1,0,1,0,1]\n",
    "test_predictions(y_pred,y_true)"
   ]
  },
  {
   "cell_type": "markdown",
   "metadata": {},
   "source": [
    "## Q1.2. Baselines\n",
    "\n",
    "We now implement some baselines and measure their performance.\n",
    "\n",
    "### 1.2.1 Majority Class Baseline\n",
    "\n",
    "The ajority class baseline labels each word in the dataset as complex. We implement the function all_complex(data_file), that takes in a dataset and returns out the precision, recall, and f-score."
   ]
  },
  {
   "cell_type": "code",
   "execution_count": 5,
   "metadata": {},
   "outputs": [
    {
     "name": "stdout",
     "output_type": "stream",
     "text": [
      "precision=0.43275, recall = 1.0, fscore = 0.604083057058105\n"
     ]
    }
   ],
   "source": [
    "\n",
    "def all_complex(data_file):\n",
    "    words, y_true = load_file(data_file)\n",
    "    y_pred = [1 for i in range(len(y_true))]\n",
    "    precision = get_precision(y_pred,y_true)\n",
    "    recall = get_recall(y_pred,y_true)\n",
    "    fscore = get_fscore(y_pred,y_true)\n",
    "    performance = [precision, recall, fscore]\n",
    "    return performance\n",
    "\n",
    "\n",
    "\n",
    "results = all_complex(training_file)\n",
    "precision = results[0]\n",
    "recall = results[1]\n",
    "fscore = results[2]\n",
    "print(\"precision=\" + str(precision) + \", recall = \" + str(recall) + \", fscore = \"+ str(fscore))"
   ]
  },
  {
   "cell_type": "markdown",
   "metadata": {},
   "source": [
    "The recall is 1.0, as expected, since the each word is labeled as complex, so we don't miss any complex word. \n",
    "On the other hand, the precision=0.43275 is the relation $\\frac{complex}{complex+simple}$"
   ]
  },
  {
   "cell_type": "markdown",
   "metadata": {},
   "source": [
    "### 1.2.2 Word Length Baseline\n",
    "\n",
    "Now, we'll use the length of each word to predict its complexity. If we set a threshold of i, it means that any word with less than 9 characters will be labeled simple, and any word with 9 characters or more will be labeled complex. We implement  the function word_length_threshold(training_file, development_file). This function takes in both the training and development data files, and returns out the precision, recall, and f-score for your best threshold’s performance on both the training and development data.\n"
   ]
  },
  {
   "cell_type": "code",
   "execution_count": 6,
   "metadata": {},
   "outputs": [],
   "source": [
    "## Finds the best length threshold by f-score, and uses this threshold to\n",
    "## classify the training and development set\n",
    "def word_length_threshold(training_file, development_file):\n",
    "    words,labels = load_file(training_file)\n",
    "    max_len = max([len(w) for w in words])\n",
    "    fst, pret, rect = get_length_performance(training_file,max_len)\n",
    "    fsd, pred, recd = get_length_performance(development_file,max_len)\n",
    "    best_train = fst.index(max(fst))\n",
    "    best_dev = fsd.index(max(fsd))\n",
    "\n",
    "    print(\"the best threshold for the train is: \" + str(best_train))\n",
    "    print(\"the best threshold for the dev is: \" + str(best_dev))\n",
    "\n",
    "    training_performance = [pret[best_train], rect[best_train], fst[best_train]]\n",
    "    development_performance = [pred[best_dev], recd[best_dev], fsd[best_dev]]\n",
    "    return training_performance, development_performance\n",
    "\n",
    "\n",
    "def get_length_performance(data_file, maxvalue):\n",
    "    words, y_true = load_file(data_file)\n",
    "    fscores = []\n",
    "    precisions =[]\n",
    "    recalls = []\n",
    "    for i in range(maxvalue):\n",
    "        y_pred = length_baseline(i, words)\n",
    "        fscore_i = get_fscore(y_pred, y_true)\n",
    "        precision_i = get_precision(y_pred, y_true)\n",
    "        recall_i = get_recall(y_pred,y_true)\n",
    "        fscores.append(fscore_i)\n",
    "        precisions.append(precision_i)\n",
    "        recalls.append(recall_i)\n",
    "    return fscores,precisions,recalls\n",
    "\n",
    "\n",
    "def length_baseline(i, words):\n",
    "    ty_pred = []\n",
    "    for j in range(len(words)):\n",
    "        if len(words[j]) > i:\n",
    "            ty_pred.append(1)\n",
    "        else:\n",
    "            ty_pred.append(0)\n",
    "    return ty_pred\n",
    "\n"
   ]
  },
  {
   "cell_type": "markdown",
   "metadata": {},
   "source": [
    "Now, we'll run word_length_threshold(training_file, development_file) on the trainig and dev data files:"
   ]
  },
  {
   "cell_type": "code",
   "execution_count": 7,
   "metadata": {},
   "outputs": [
    {
     "name": "stdout",
     "output_type": "stream",
     "text": [
      "the best threshold for the train is: 6\n",
      "the best threshold for the dev is: 6\n",
      "--------------------------------------------------training results--------------------------------------------------\n",
      "precision=0.6007401315789473, recall = 0.8440207972270364, fscore = 0.7018976699495555\n",
      "--------------------------------------------------dev results--------------------------------------------------\n",
      "precision=0.6053511705685619, recall = 0.8660287081339713, fscore = 0.7125984251968505\n"
     ]
    }
   ],
   "source": [
    "def print_results(results):\n",
    "    print(\"-\"*50 +\"training results\" + \"-\"*50)\n",
    "    precision = results[0][0]\n",
    "    recall = results[0][1]\n",
    "    fscore = results[0][2]\n",
    "    print(\"precision=\" + str(precision) + \", recall = \" + str(recall) + \", fscore = \" + str(fscore))\n",
    "    print(\"-\"*50 +\"dev results\" + \"-\"*50)\n",
    "    precision = results[1][0]\n",
    "    recall = results[1][1]\n",
    "    fscore = results[1][2]\n",
    "    print(\"precision=\" + str(precision) + \", recall = \" + str(recall) + \", fscore = \" + str(fscore))\n",
    "    \n",
    "results = word_length_threshold(training_file,development_file)\n",
    "print_results(results)\n"
   ]
  },
  {
   "cell_type": "markdown",
   "metadata": {},
   "source": [
    "Now, we'll plot the Precision-Recall curve. We do it by plotting the Precision (on the y-axis) and Recall (on the X-axis) for different values of word-length threshold. "
   ]
  },
  {
   "cell_type": "code",
   "execution_count": 8,
   "metadata": {},
   "outputs": [
    {
     "data": {
      "image/png": "[encoded data removed]",
      "text/plain": [
       "<Figure size 432x288 with 1 Axes>"
      ]
     },
     "metadata": {
      "needs_background": "light"
     },
     "output_type": "display_data"
    }
   ],
   "source": [
    "def print_precision_recall_curve_for_length_baseline(data_file):\n",
    "    words, labels = load_file(training_file)\n",
    "    max_len = max([len(w) for w in words])\n",
    "    fst, pret, rect = get_length_performance(data_file,max_len)\n",
    "    y = [pret[1],pret[4],pret[7],pret[12],pret[19]]\n",
    "    x = [rect[1],rect[4],rect[7],rect[12],rect[19]]\n",
    "    plt.plot(x,y)\n",
    "    plt.scatter(x,y)\n",
    "    plt.show()\n",
    "    \n",
    "print_precision_recall_curve_for_length_baseline(training_file)\n"
   ]
  },
  {
   "cell_type": "markdown",
   "metadata": {},
   "source": [
    "As expected, Precision and Recall are inversely related. Recall = 1.0  means that we don't miss any complex word, but it also implies a large amount of flase positive classification. On the other hand, precision = 1.0 also implies a large amount of false positive classification. The threshold  we found is a good balance between them. "
   ]
  },
  {
   "cell_type": "markdown",
   "metadata": {},
   "source": [
    "### 1.2.3 Word Frequency Baseline\n",
    "\n",
    "Our final baseline is a classifier similar to the last one, but thresholds on word frequency instead of length. We'll use  Google NGram frequencies to implement the function word_frequency_threshold(training_file, development_file, counts), where counts is the dictionary of word frequencies.The function returns the precision, recall, and fscore for your best threshold’s performance on both the training and development data. The thresholds are taken from the set $\\{2^i : 0 \\leq i \\leq 36 \\}$\n"
   ]
  },
  {
   "cell_type": "code",
   "execution_count": 9,
   "metadata": {},
   "outputs": [
    {
     "name": "stdout",
     "output_type": "stream",
     "text": [
      "the best threshold for the train is: 16777216\n",
      "the best threshold for the dev is: 16777216\n",
      "--------------------------------------------------training results--------------------------------------------------\n",
      "precision=0.5736597720557197, recall = 0.7850953206239168, fscore = 0.6629268292682927\n",
      "--------------------------------------------------dev results--------------------------------------------------\n",
      "precision=0.5681444991789819, recall = 0.8277511961722488, fscore = 0.6738072054527751\n"
     ]
    }
   ],
   "source": [
    "## Loads Google NGram counts\n",
    "def load_ngram_counts(ngram_counts_file): \n",
    "   counts = defaultdict(int) \n",
    "   with gzip.open(ngram_counts_file, 'rt', errors='ignore') as f: \n",
    "       for line in f:\n",
    "           token, count = line.strip().split('\\t') \n",
    "           if token[0].islower(): \n",
    "               counts[token] = int(count) \n",
    "   return counts\n",
    "\n",
    "def frequency_baseline(i, words, counts):\n",
    "    ty_pred = []\n",
    "    for j in range(len(words)):\n",
    "        if counts[words[j]] < i:\n",
    "            ty_pred.append(1)\n",
    "        else:\n",
    "            ty_pred.append(0)\n",
    "    return ty_pred\n",
    "\n",
    "def get_freq_performance(data_file, counts):\n",
    "    words, y_true = load_file(data_file)\n",
    "    fscores = []\n",
    "    precisions =[]\n",
    "    recalls = []\n",
    "    thresholds = [pow(2,i) for i in range(36)]\n",
    "    for i in thresholds:\n",
    "        y_pred = frequency_baseline(i, words, counts)\n",
    "        fscore_i = get_fscore(y_pred, y_true)\n",
    "        precision_i = get_precision(y_pred, y_true)\n",
    "        recall_i = get_recall(y_pred,y_true)\n",
    "        fscores.append(fscore_i)\n",
    "        precisions.append(precision_i)\n",
    "        recalls.append(recall_i)\n",
    "    return fscores,precisions,recalls\n",
    "\n",
    "def word_frequency_threshold(training_file, development_file, counts):\n",
    "    fst, pret, rect = get_freq_performance(training_file,counts)\n",
    "    fsd, pred, recd = get_freq_performance(development_file, counts)\n",
    "    best_train = fst.index(max(fst))\n",
    "    best_dev = fsd.index(max(fsd))\n",
    "\n",
    "    print(\"the best threshold for the train is: \" + str(pow(2,best_train)))\n",
    "    print(\"the best threshold for the dev is: \"+ str(pow(2,best_dev)))\n",
    "\n",
    "    training_performance = [pret[best_train], rect[best_train], fst[best_train]]\n",
    "    development_performance = [pred[best_dev], recd[best_dev], fsd[best_dev]]\n",
    "    return training_performance, development_performance\n",
    "\n",
    "\n",
    "ngram_counts = load_ngram_counts(counts_file)\n",
    "results = word_frequency_threshold(training_file,development_file,ngram_counts)\n",
    "print_results(results)"
   ]
  },
  {
   "cell_type": "markdown",
   "metadata": {},
   "source": [
    "And now, we'll plot the Precision-Recall curve."
   ]
  },
  {
   "cell_type": "code",
   "execution_count": 10,
   "metadata": {},
   "outputs": [
    {
     "data": {
      "image/png": "[encoded data removed]",
      "text/plain": [
       "<Figure size 432x288 with 1 Axes>"
      ]
     },
     "metadata": {
      "needs_background": "light"
     },
     "output_type": "display_data"
    }
   ],
   "source": [
    "\n",
    "def print_precision_recall_curve_for_freq_baseline(data_file, counts):\n",
    "    fst, pret, rect = get_freq_performance(data_file, counts)\n",
    "    y = [pret[28], pret[24] ,pret[20], pret[17] , pret[14], pret[8], pret[2]]\n",
    "    x = [rect[28], rect[24] ,rect[20], rect[17], rect[14], rect[8], rect[2]]\n",
    "    plt.plot(x,y)\n",
    "    plt.scatter(x,y)\n",
    "    plt.show()\n",
    "\n",
    "\n",
    "print_precision_recall_curve_for_freq_baseline(training_file, ngram_counts)\n"
   ]
  },
  {
   "cell_type": "markdown",
   "metadata": {},
   "source": [
    "Unlike the previous case, now the precision and recall are not inversely related. For some thresholds we have low precision and recall. A possible explanation is that there is no strong correlation between the frequency and the complexity of the word."
   ]
  },
  {
   "cell_type": "markdown",
   "metadata": {},
   "source": [
    "## Q1.3. Classifiers \n",
    "\n",
    "### 1.3.1 Naive Bayes classification\n",
    "\n",
    "We will use the built-in Naive Bayes model from sklearn, to train a classifier. We implement the function naive_bayes(training_file, development_file, counts). This function will train a Naive Bayes classifier on the training data using word length and word frequency as features, and it returns the precision, recall, and f-score on the training data and the development data."
   ]
  },
  {
   "cell_type": "code",
   "execution_count": 11,
   "metadata": {},
   "outputs": [
    {
     "name": "stdout",
     "output_type": "stream",
     "text": [
      "--------------------------------------------------training results--------------------------------------------------\n",
      "precision=0.4950379451255108, recall = 0.9797804737146159, fscore = 0.6577467519875897\n",
      "--------------------------------------------------dev results--------------------------------------------------\n",
      "precision=0.46929316338354576, recall = 0.9688995215311005, fscore = 0.6323185011709602\n"
     ]
    }
   ],
   "source": [
    "def get_normlization_constants(counts, words):\n",
    "    lens = [len(w) for w in words]\n",
    "    m_len = np.mean(lens)\n",
    "    s_len = np.std(lens)\n",
    "    freqs = [counts[w] for w in words]\n",
    "    m_freq = np.mean(freqs)\n",
    "    s_freq = np.std(freqs)\n",
    "    return m_len,s_len,m_freq,s_freq\n",
    "\n",
    "\n",
    "def create_matrix(counts, words, m_len, s_len, m_freq, s_freq):\n",
    "    m = len(words)\n",
    "    w = words[0]\n",
    "    length = len(w)\n",
    "    freq = counts[w]\n",
    "    X = np.array([((length-m_len)/s_len), ((freq-m_freq)/s_freq)])\n",
    "    i = 1\n",
    "    while i < m:\n",
    "        w = words[i]\n",
    "        length = len(w)\n",
    "        freq = counts[w]\n",
    "        X = np.vstack([X, [((length-m_len)/s_len), ((freq-m_freq)/s_freq)]])\n",
    "        i += 1\n",
    "    return X\n",
    "\n",
    "def naive_bayes(training_file, development_file, counts):\n",
    "    words, Y_true = load_file(training_file)\n",
    "\n",
    "    m_len,s_len,m_freq,s_freq = get_normlization_constants(counts, words)\n",
    "\n",
    "    X_train = create_matrix(counts, words,m_len,s_len,m_freq,s_freq)\n",
    "    clf = GaussianNB()\n",
    "    clf.fit(X_train, Y_true)\n",
    "    Y_pred = clf.predict(X_train)\n",
    "    tprecision = get_precision(Y_pred,Y_true)\n",
    "    trecall = get_recall(Y_pred, Y_true)\n",
    "    tfscore = get_fscore(Y_pred, Y_true)\n",
    "\n",
    "\n",
    "    dev_words, dev_labels = load_file(development_file)\n",
    "    X_dev = create_matrix(counts,dev_words, m_len,s_len,m_freq,s_freq)\n",
    "    Y_pred_dev = clf.predict(X_dev)\n",
    "    dprecision = get_precision(Y_pred_dev,dev_labels)\n",
    "    drecall = get_recall(Y_pred_dev, dev_labels)\n",
    "    dfscore = get_fscore(Y_pred_dev, dev_labels)\n",
    "    training_performance = [tprecision, trecall, tfscore]\n",
    "    development_performance = [dprecision, drecall, dfscore]\n",
    "    return training_performance,development_performance\n",
    "\n",
    "\n",
    "\n",
    "\n",
    "performance = naive_bayes(training_file,development_file,ngram_counts)\n",
    "print_results(performance)"
   ]
  },
  {
   "cell_type": "markdown",
   "metadata": {},
   "source": [
    "As we can see, We got a worse results than in the baseline classifiers. There are two explanations for these results: \n",
    "1. As we have already seen, frequency is not a good feature of word complexity.\n",
    "2. The Naive Bayes assumption (dfeatures are conditionally independent) is very inaccurate.\n",
    "\n"
   ]
  },
  {
   "cell_type": "markdown",
   "metadata": {},
   "source": [
    "## Q1.4. Ambiguity\n",
    "\n",
    "Now, we would like to check if the classification of a word sensitive to its context in a sentence?\n",
    "\n",
    "we implement the function find_ambiguity(data_file) that lists context-sensitive words in the dataset. "
   ]
  },
  {
   "cell_type": "code",
   "execution_count": 12,
   "metadata": {},
   "outputs": [
    {
     "name": "stdout",
     "output_type": "stream",
     "text": [
      "{'league', 'commissioner', 'district', 'indy', 'hoverboard', 'slavery', 'opponents', 'element', 'sprouts', 'campaign', 'inspired'}\n"
     ]
    }
   ],
   "source": [
    "def find_ambiguity(data_file):\n",
    "    words, labels = load_file(data_file)\n",
    "    amb_words = []\n",
    "    for w in words:\n",
    "        indices = [i for i, x in enumerate(words) if x == w]\n",
    "        w_labels = []\n",
    "        for i in indices:\n",
    "          w_labels.append(labels[i])\n",
    "        if 1 in w_labels and 0 in w_labels:\n",
    "            amb_words.append(w)\n",
    "\n",
    "    print(set(amb_words))\n",
    "    \n",
    "    \n",
    "find_ambiguity(training_file)"
   ]
  },
  {
   "cell_type": "markdown",
   "metadata": {},
   "source": [
    "As we can see in the list above, there are words that are both simple and complex in the training data. \n",
    "For example, let's look at two different occurrences of the word 'league' that were tagged with different labels:\n",
    "\n",
    "1. league\t1\t4\t\"Tom Brady has been an NFL golden boy , with movie-star looks, a supermodel wife, four Super Bowl championship rings, and a regular-guy-makes-good back story -- he went from being a sixth-round draft pick to one of the greatest quarterbacks in league history. \"\n",
    "\n",
    "\n",
    "\n",
    "2. League\t0\t0\t\"One piece of that market , e-sport multiplayer video-gaming competitions, is expected to bring in 612$  million this year for games such as Dota 2 and League of Legends.\" \n",
    "\n",
    "As we can see, In the fisrt example, The word league appears in itself. In the second case, it is a part of a video-game nmae. \n"
   ]
  },
  {
   "cell_type": "code",
   "execution_count": null,
   "metadata": {},
   "outputs": [],
   "source": []
  }
 ],
 "metadata": {
  "kernelspec": {
   "display_name": "Python 3 (ipykernel)",
   "language": "python",
   "name": "python3"
  },
  "language_info": {
   "codemirror_mode": {
    "name": "ipython",
    "version": 3
   },
   "file_extension": ".py",
   "mimetype": "text/x-python",
   "name": "python",
   "nbconvert_exporter": "python",
   "pygments_lexer": "ipython3",
   "version": "3.9.7"
  }
 },
 "nbformat": 4,
 "nbformat_minor": 2
}
